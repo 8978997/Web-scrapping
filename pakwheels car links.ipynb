{
 "cells": [
  {
   "cell_type": "code",
   "execution_count": 2,
   "id": "e6909c65-3de3-4db9-8455-8f6ef52a0cf7",
   "metadata": {
    "scrolled": true
   },
   "outputs": [
    {
     "name": "stderr",
     "output_type": "stream",
     "text": [
      "C:\\Users\\Lenovo\\AppData\\Local\\Temp\\ipykernel_11712\\3939065921.py:3: DeprecationWarning: \n",
      "Pyarrow will become a required dependency of pandas in the next major release of pandas (pandas 3.0),\n",
      "(to allow more performant data types, such as the Arrow string type, and better interoperability with other libraries)\n",
      "but was not found to be installed on your system.\n",
      "If this would cause problems for you,\n",
      "please provide us feedback at https://github.com/pandas-dev/pandas/issues/54466\n",
      "        \n",
      "  import pandas as pd\n"
     ]
    }
   ],
   "source": [
    "import requests\n",
    "from bs4 import BeautifulSoup\n",
    "import pandas as pd\n",
    "import json"
   ]
  },
  {
   "cell_type": "code",
   "execution_count": 8,
   "id": "3c0fd817-1b36-4472-9d57-bee005493884",
   "metadata": {},
   "outputs": [],
   "source": [
    "links = []\n",
    "\n",
    "for i in range(1, 2132):\n",
    "    url = f'https://www.pakwheels.com/used-cars/search/-/?page={i}'\n",
    "    response_car = requests.get(url)\n",
    "    soup_car = BeautifulSoup(response_car.text, 'html.parser')\n",
    "    script_tags = soup_car.find_all('script')\n",
    "    target_script = None\n",
    "    \n",
    "    for script in script_tags:\n",
    "        if 'application/ld+json' in script.get('type', ''):\n",
    "            target_script = script\n",
    "            break\n",
    "    if target_script:\n",
    "        json_data = json.loads(target_script.string)\n",
    "        if 'itemListElement' in json_data:\n",
    "            items = json_data['itemListElement']\n",
    "            for item in items:\n",
    "                if \"url\" in item:\n",
    "                    links.append(item['url'])\n",
    "    else:\n",
    "        print(\"No script tag containing JSON data found.\")\n",
    "    \n",
    "    Data = {\n",
    "        'links of cars' : links\n",
    "    }\n",
    "    \n",
    "    df = pd.DataFrame(Data)\n",
    "    df.to_csv(r\"C:\\Users\\Lenovo\\Desktop\\All files\\csv files\\pak wheel\\Cars_links2.csv\")\n",
    "    "
   ]
  },
  {
   "cell_type": "code",
   "execution_count": 9,
   "id": "9ecccb47-fb56-47c1-b47d-d7dff4e502b2",
   "metadata": {},
   "outputs": [
    {
     "data": {
      "text/html": [
       "<div>\n",
       "<style scoped>\n",
       "    .dataframe tbody tr th:only-of-type {\n",
       "        vertical-align: middle;\n",
       "    }\n",
       "\n",
       "    .dataframe tbody tr th {\n",
       "        vertical-align: top;\n",
       "    }\n",
       "\n",
       "    .dataframe thead th {\n",
       "        text-align: right;\n",
       "    }\n",
       "</style>\n",
       "<table border=\"1\" class=\"dataframe\">\n",
       "  <thead>\n",
       "    <tr style=\"text-align: right;\">\n",
       "      <th></th>\n",
       "      <th>Unnamed: 0</th>\n",
       "      <th>links of cars</th>\n",
       "    </tr>\n",
       "  </thead>\n",
       "  <tbody>\n",
       "    <tr>\n",
       "      <th>0</th>\n",
       "      <td>0</td>\n",
       "      <td>https://www.pakwheels.com/used-cars/mitsubishi...</td>\n",
       "    </tr>\n",
       "    <tr>\n",
       "      <th>1</th>\n",
       "      <td>1</td>\n",
       "      <td>https://www.pakwheels.com/used-cars/toyota-c-h...</td>\n",
       "    </tr>\n",
       "    <tr>\n",
       "      <th>2</th>\n",
       "      <td>2</td>\n",
       "      <td>https://www.pakwheels.com/used-cars/toyota-cor...</td>\n",
       "    </tr>\n",
       "    <tr>\n",
       "      <th>3</th>\n",
       "      <td>3</td>\n",
       "      <td>https://www.pakwheels.com/used-cars/honda-n-wg...</td>\n",
       "    </tr>\n",
       "    <tr>\n",
       "      <th>4</th>\n",
       "      <td>4</td>\n",
       "      <td>https://www.pakwheels.com/used-cars/toyota-lan...</td>\n",
       "    </tr>\n",
       "  </tbody>\n",
       "</table>\n",
       "</div>"
      ],
      "text/plain": [
       "   Unnamed: 0                                      links of cars\n",
       "0           0  https://www.pakwheels.com/used-cars/mitsubishi...\n",
       "1           1  https://www.pakwheels.com/used-cars/toyota-c-h...\n",
       "2           2  https://www.pakwheels.com/used-cars/toyota-cor...\n",
       "3           3  https://www.pakwheels.com/used-cars/honda-n-wg...\n",
       "4           4  https://www.pakwheels.com/used-cars/toyota-lan..."
      ]
     },
     "execution_count": 9,
     "metadata": {},
     "output_type": "execute_result"
    }
   ],
   "source": [
    "df = pd.read_csv(r\"C:\\Users\\Lenovo\\Desktop\\All files\\csv files\\pak wheel\\Cars_links2.csv\")\n",
    "df.head()\n",
    "\n"
   ]
  },
  {
   "cell_type": "code",
   "execution_count": 13,
   "id": "3723f92c-52af-4be8-a86c-676fceaeed7b",
   "metadata": {},
   "outputs": [
    {
     "data": {
      "text/plain": [
       "(60249, 2)"
      ]
     },
     "execution_count": 13,
     "metadata": {},
     "output_type": "execute_result"
    }
   ],
   "source": [
    "df.shape\n"
   ]
  },
  {
   "cell_type": "code",
   "execution_count": null,
   "id": "da882d47-26e2-4100-936a-738ea97af584",
   "metadata": {},
   "outputs": [],
   "source": []
  }
 ],
 "metadata": {
  "kernelspec": {
   "display_name": "Python 3 (ipykernel)",
   "language": "python",
   "name": "python3"
  },
  "language_info": {
   "codemirror_mode": {
    "name": "ipython",
    "version": 3
   },
   "file_extension": ".py",
   "mimetype": "text/x-python",
   "name": "python",
   "nbconvert_exporter": "python",
   "pygments_lexer": "ipython3",
   "version": "3.12.2"
  },
  "widgets": {
   "application/vnd.jupyter.widget-state+json": {
    "state": {},
    "version_major": 2,
    "version_minor": 0
   }
  }
 },
 "nbformat": 4,
 "nbformat_minor": 5
}

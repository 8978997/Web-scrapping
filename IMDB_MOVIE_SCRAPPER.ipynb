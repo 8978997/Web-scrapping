{
 "cells": [
  {
   "cell_type": "code",
   "execution_count": 5,
   "id": "06ceaac1-bc2b-464c-8d80-1477fea38636",
   "metadata": {},
   "outputs": [],
   "source": [
    "from selenium import webdriver\n",
    "from selenium.webdriver.firefox.service import Service as FirefoxService\n",
    "from webdriver_manager.firefox import GeckoDriverManager\n",
    "from selenium.webdriver.common.by import By\n",
    "driver = webdriver.Firefox(service=FirefoxService(GeckoDriverManager().install()))"
   ]
  },
  {
   "cell_type": "code",
   "execution_count": 7,
   "id": "f02d7d26-a527-4eb2-bada-05c064d8cd9a",
   "metadata": {},
   "outputs": [],
   "source": [
    "import requests\n",
    "import numpy as np\n",
    "from bs4 import BeautifulSoup\n",
    "import pandas as pd"
   ]
  },
  {
   "cell_type": "code",
   "execution_count": 8,
   "id": "acea0e4d-b891-4b28-9e51-c134f3ca581a",
   "metadata": {},
   "outputs": [],
   "source": [
    "driver.get(\"https://www.imdb.com/chart/top/\")"
   ]
  },
  {
   "cell_type": "code",
   "execution_count": 9,
   "id": "6b36dd55-6d7c-4a88-8156-3b46e539dcba",
   "metadata": {},
   "outputs": [],
   "source": [
    "content = driver.find_elements(By.CLASS_NAME, 'ipc-metadata-list-summary-item__c')\n",
    "\n",
    "movie_data = []\n",
    "\n",
    "movie_name = []\n",
    "release_year = []\n",
    "total_duration = []  \n",
    "rating = []\n",
    "No_Of_people_rated = []\n",
    "\n",
    "for item in content:\n",
    "    movie_info = item.text.split('\\n')\n",
    "    \n",
    "    movie_names = movie_info[0]\n",
    "    release_years = movie_info[1]\n",
    "    total_durations = movie_info[2]\n",
    "    ratings = movie_info[4]\n",
    "    No_people_rateds = movie_info[5]\n",
    "\n",
    "    movie_name.append(movie_names)\n",
    "    release_year.append(release_years)\n",
    "    total_duration.append(total_durations)  \n",
    "    rating.append(ratings)\n",
    "    No_Of_people_rated.append(No_people_rateds)\n",
    "\n",
    "Data = {\n",
    "    'movie_name' : movie_name,\n",
    "    'release_year' : release_year,\n",
    "    'total_duration' : total_duration,\n",
    "    'rating' : rating,\n",
    "    'No_Of_people_rated' : No_Of_people_rated\n",
    "}\n",
    "\n",
    "df = pd.DataFrame(Data)\n",
    "df.to_csv(r'C:\\Users\\Lenovo\\Desktop\\All files\\csv files\\IMBD_MOVIES.csv')"
   ]
  },
  {
   "cell_type": "code",
   "execution_count": 10,
   "id": "cc2f2584-2d01-4199-ae1e-60fa6e0ed502",
   "metadata": {},
   "outputs": [
    {
     "data": {
      "text/html": [
       "<div>\n",
       "<style scoped>\n",
       "    .dataframe tbody tr th:only-of-type {\n",
       "        vertical-align: middle;\n",
       "    }\n",
       "\n",
       "    .dataframe tbody tr th {\n",
       "        vertical-align: top;\n",
       "    }\n",
       "\n",
       "    .dataframe thead th {\n",
       "        text-align: right;\n",
       "    }\n",
       "</style>\n",
       "<table border=\"1\" class=\"dataframe\">\n",
       "  <thead>\n",
       "    <tr style=\"text-align: right;\">\n",
       "      <th></th>\n",
       "      <th>Unnamed: 0</th>\n",
       "      <th>movie_name</th>\n",
       "      <th>release_year</th>\n",
       "      <th>total_duration</th>\n",
       "      <th>rating</th>\n",
       "      <th>No_Of_people_rated</th>\n",
       "    </tr>\n",
       "  </thead>\n",
       "  <tbody>\n",
       "    <tr>\n",
       "      <th>0</th>\n",
       "      <td>0</td>\n",
       "      <td>1. The Shawshank Redemption</td>\n",
       "      <td>1994</td>\n",
       "      <td>2h 22m</td>\n",
       "      <td>9.3</td>\n",
       "      <td>(2.9M)</td>\n",
       "    </tr>\n",
       "    <tr>\n",
       "      <th>1</th>\n",
       "      <td>1</td>\n",
       "      <td>2. The Godfather</td>\n",
       "      <td>1972</td>\n",
       "      <td>2h 55m</td>\n",
       "      <td>9.2</td>\n",
       "      <td>(2M)</td>\n",
       "    </tr>\n",
       "    <tr>\n",
       "      <th>2</th>\n",
       "      <td>2</td>\n",
       "      <td>3. The Dark Knight</td>\n",
       "      <td>2008</td>\n",
       "      <td>2h 32m</td>\n",
       "      <td>9.0</td>\n",
       "      <td>(2.9M)</td>\n",
       "    </tr>\n",
       "    <tr>\n",
       "      <th>3</th>\n",
       "      <td>3</td>\n",
       "      <td>4. The Godfather Part II</td>\n",
       "      <td>1974</td>\n",
       "      <td>3h 22m</td>\n",
       "      <td>9.0</td>\n",
       "      <td>(1.4M)</td>\n",
       "    </tr>\n",
       "    <tr>\n",
       "      <th>4</th>\n",
       "      <td>4</td>\n",
       "      <td>5. 12 Angry Men</td>\n",
       "      <td>1957</td>\n",
       "      <td>1h 36m</td>\n",
       "      <td>9.0</td>\n",
       "      <td>(862K)</td>\n",
       "    </tr>\n",
       "  </tbody>\n",
       "</table>\n",
       "</div>"
      ],
      "text/plain": [
       "   Unnamed: 0                   movie_name  release_year total_duration  \\\n",
       "0           0  1. The Shawshank Redemption          1994         2h 22m   \n",
       "1           1             2. The Godfather          1972         2h 55m   \n",
       "2           2           3. The Dark Knight          2008         2h 32m   \n",
       "3           3     4. The Godfather Part II          1974         3h 22m   \n",
       "4           4              5. 12 Angry Men          1957         1h 36m   \n",
       "\n",
       "  rating No_Of_people_rated  \n",
       "0    9.3             (2.9M)  \n",
       "1    9.2               (2M)  \n",
       "2    9.0             (2.9M)  \n",
       "3    9.0             (1.4M)  \n",
       "4    9.0             (862K)  "
      ]
     },
     "execution_count": 10,
     "metadata": {},
     "output_type": "execute_result"
    }
   ],
   "source": [
    "df = pd.read_csv(r\"C:\\Users\\Lenovo\\Desktop\\All files\\csv files\\IMBD_MOVIES.csv\")\n",
    "df.head()"
   ]
  },
  {
   "cell_type": "code",
   "execution_count": null,
   "id": "2336b171-8002-4e8a-a47e-285205aeb6c9",
   "metadata": {},
   "outputs": [],
   "source": []
  }
 ],
 "metadata": {
  "kernelspec": {
   "display_name": "Python 3 (ipykernel)",
   "language": "python",
   "name": "python3"
  },
  "language_info": {
   "codemirror_mode": {
    "name": "ipython",
    "version": 3
   },
   "file_extension": ".py",
   "mimetype": "text/x-python",
   "name": "python",
   "nbconvert_exporter": "python",
   "pygments_lexer": "ipython3",
   "version": "3.12.2"
  },
  "widgets": {
   "application/vnd.jupyter.widget-state+json": {
    "state": {},
    "version_major": 2,
    "version_minor": 0
   }
  }
 },
 "nbformat": 4,
 "nbformat_minor": 5
}
